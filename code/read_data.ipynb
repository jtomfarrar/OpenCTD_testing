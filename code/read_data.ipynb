{
 "cells": [
  {
   "cell_type": "markdown",
   "id": "9e9920d3",
   "metadata": {},
   "source": [
    "## Read data from Steven Akin's OpenCTD instruments\n",
    "\n",
    "Steven built two OpenCTDs in the summer of 2021.  He came to WHOI to test them against Seabird 37 CTDs (a trusted oceanographic research quality CTD).  This is to read and plot some of the data."
   ]
  },
  {
   "cell_type": "markdown",
   "id": "eb1abf7e",
   "metadata": {},
   "source": [
    "First read in the SBE37 data from the cal bath.  The fields are as follows:\n",
    "```\n",
    "# name 0 = timeJ: Julian Days\n",
    "# name 1 = tv290C: Temperature [ITS-90, deg C]\n",
    "# name 2 = cond0S/m: Conductivity [S/m]\n",
    "# name 3 = sal00: Salinity, Practical [PSU]\n",
    "# name 4 = prdM: Pressure, Strain Gauge [db]\n",
    "# name 5 = flag:  0.000e+00\n",
    "# span 0 = 225.725706, 225.877905                 \n",
    "# span 1 =     0.1177,    30.2064                 \n",
    "# span 2 =  -0.000194,   0.013056                 \n",
    "# span 3 =     0.0000,     0.0608                 \n",
    "# span 4 =     -0.120,      0.467                 \n",
    "# span 5 = 0.0000e+00, 0.0000e+00                 \n",
    "# interval = seconds: 10\n",
    "# start_time = Aug 13 2021 17:25:01 [Instrument's time stamp, first data scan]\n",
    "```\n",
    "\n",
    "Lines 1-283 of the CNV file are header lines.\n",
    "\n",
    "The file is here:\n",
    "\"C:\\Users\\jtomf\\Desktop\\access_to_the_sea\\info\\for_students\\Steven_Akin\\data\\cal_bath\\SBE37SM-RS232_03715360_2021_08_13.cnv\"\n"
   ]
  },
  {
   "cell_type": "code",
   "execution_count": 33,
   "id": "73f569a8",
   "metadata": {},
   "outputs": [],
   "source": [
    "import numpy as np\n",
    "import matplotlib as mplt\n",
    "import matplotlib.pyplot as plt\n"
   ]
  },
  {
   "cell_type": "code",
   "execution_count": 9,
   "id": "db0bf940",
   "metadata": {},
   "outputs": [],
   "source": [
    "fname=r'C:\\Users\\jtomf\\Desktop\\access_to_the_sea\\info\\for_students\\Steven_Akin\\data\\cal_bath\\SBE37SM-RS232_03715360_2021_08_13.cnv'\n"
   ]
  },
  {
   "cell_type": "code",
   "execution_count": 22,
   "id": "7f576473",
   "metadata": {},
   "outputs": [],
   "source": [
    "\n",
    "data  = np.genfromtxt(fname, skip_header=285)"
   ]
  },
  {
   "cell_type": "code",
   "execution_count": 24,
   "id": "7211cd5f",
   "metadata": {},
   "outputs": [
    {
     "data": {
      "text/plain": [
       "(1314, 6)"
      ]
     },
     "execution_count": 24,
     "metadata": {},
     "output_type": "execute_result"
    }
   ],
   "source": [
    "np.shape(data)\n"
   ]
  },
  {
   "cell_type": "code",
   "execution_count": 29,
   "id": "9db7edbd",
   "metadata": {},
   "outputs": [],
   "source": [
    "t_JD = data[:,0]\n",
    "tv290C =  data[:,1]\n",
    "cond = data[:,2]\n",
    "sal = data[:,3]\n",
    "press = data[:,4]"
   ]
  },
  {
   "cell_type": "code",
   "execution_count": 34,
   "id": "fde82551",
   "metadata": {},
   "outputs": [
    {
     "data": {
      "text/plain": [
       "<matplotlib.legend.Legend at 0x1cf03eb17f0>"
      ]
     },
     "execution_count": 34,
     "metadata": {},
     "output_type": "execute_result"
    },
    {
     "data": {
      "image/png": "[encoded data removed]",
      "text/plain": [
       "<Figure size 432x288 with 2 Axes>"
      ]
     },
     "metadata": {
      "needs_background": "light"
     },
     "output_type": "display_data"
    }
   ],
   "source": [
    "fig, axs = plt.subplots(2, 1, sharex=True)\n",
    "axs[0].plot(t_JD, tv290C, lw=2)\n",
    "axs[0].set(ylabel='[$^\\circ$C]')\n",
    "axs[0].legend(['T'])\n",
    "axs[1].plot(t_JD, cond, lw=2)\n",
    "axs[1].set(ylabel='[cond]')\n",
    "axs[1].legend(['cond'])\n"
   ]
  },
  {
   "cell_type": "code",
   "execution_count": null,
   "id": "e5a82b57",
   "metadata": {},
   "outputs": [],
   "source": []
  }
 ],
 "metadata": {
  "kernelspec": {
   "display_name": "Python 3",
   "language": "python",
   "name": "python3"
  },
  "language_info": {
   "codemirror_mode": {
    "name": "ipython",
    "version": 3
   },
   "file_extension": ".py",
   "mimetype": "text/x-python",
   "name": "python",
   "nbconvert_exporter": "python",
   "pygments_lexer": "ipython3",
   "version": "3.8.6"
  }
 },
 "nbformat": 4,
 "nbformat_minor": 5
}
