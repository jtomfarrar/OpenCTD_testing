{
 "cells": [
  {
   "cell_type": "markdown",
   "id": "ba8dc40d",
   "metadata": {},
   "source": [
    "## Read data from Steven Akin's OpenCTD instruments\n",
    "\n",
    "Steven built two OpenCTDs in the summer of 2021.  He came to WHOI to test them against Seabird 37 CTDs (a trusted oceanographic research quality CTD).  This is to read and plot some of the data."
   ]
  },
  {
   "cell_type": "markdown",
   "id": "d9c05367",
   "metadata": {},
   "source": [
    "First read in the SBE37 data from the cal bath.  The fields are as follows:\n",
    "```\n",
    "# name 0 = timeJ: Julian Days\n",
    "# name 1 = tv290C: Temperature [ITS-90, deg C]\n",
    "# name 2 = cond0S/m: Conductivity [S/m]\n",
    "# name 3 = sal00: Salinity, Practical [PSU]\n",
    "# name 4 = prdM: Pressure, Strain Gauge [db]\n",
    "# name 5 = flag:  0.000e+00\n",
    "# span 0 = 225.725706, 225.877905                 \n",
    "# span 1 =     0.1177,    30.2064                 \n",
    "# span 2 =  -0.000194,   0.013056                 \n",
    "# span 3 =     0.0000,     0.0608                 \n",
    "# span 4 =     -0.120,      0.467                 \n",
    "# span 5 = 0.0000e+00, 0.0000e+00                 \n",
    "# interval = seconds: 10\n",
    "# start_time = Aug 13 2021 17:25:01 [Instrument's time stamp, first data scan]\n",
    "```\n",
    "\n",
    "Lines 1-283 of the CNV file are header lines.\n",
    "\n",
    "The file is here:\n",
    "\"..\\data\\raw\\cal_bath\\SBE37SM-RS232_03715360_2021_08_13.cnv\"\n"
   ]
  },
  {
   "cell_type": "code",
   "execution_count": 1,
   "id": "258ab7a8",
   "metadata": {},
   "outputs": [],
   "source": [
    "import numpy as np\n",
    "import matplotlib as mplt\n",
    "import matplotlib.pyplot as plt\n"
   ]
  },
  {
   "cell_type": "code",
   "execution_count": 2,
   "id": "0df216a1",
   "metadata": {},
   "outputs": [],
   "source": [
    "# fname=r'C:\\Users\\jtomf\\Desktop\\access_to_the_sea\\info\\for_students\\Steven_Akin\\data\\cal_bath\\SBE37SM-RS232_03715360_2021_08_13.cnv'\n",
    "fname=r'..\\data\\raw\\cal_bath\\SBE37SM-RS232_03715360_2021_08_13.cnv'"
   ]
  },
  {
   "cell_type": "code",
   "execution_count": 3,
   "id": "ae71cb2a",
   "metadata": {},
   "outputs": [],
   "source": [
    "\n",
    "data  = np.genfromtxt(fname, skip_header=285)"
   ]
  },
  {
   "cell_type": "code",
   "execution_count": 4,
   "id": "423cd506",
   "metadata": {},
   "outputs": [
    {
     "data": {
      "text/plain": [
       "(1314, 6)"
      ]
     },
     "execution_count": 4,
     "metadata": {},
     "output_type": "execute_result"
    }
   ],
   "source": [
    "np.shape(data)\n"
   ]
  },
  {
   "cell_type": "code",
   "execution_count": 5,
   "id": "516e54b5",
   "metadata": {},
   "outputs": [],
   "source": [
    "t_JD = data[:,0]\n",
    "tv290C =  data[:,1]\n",
    "cond = data[:,2]\n",
    "sal = data[:,3]\n",
    "press = data[:,4]"
   ]
  },
  {
   "cell_type": "code",
   "execution_count": 6,
   "id": "1a6e0449",
   "metadata": {},
   "outputs": [
    {
     "data": {
      "text/plain": [
       "<matplotlib.legend.Legend at 0x2734c796640>"
      ]
     },
     "execution_count": 6,
     "metadata": {},
     "output_type": "execute_result"
    },
    {
     "data": {
      "image/png": "[encoded data removed]",
      "text/plain": [
       "<Figure size 432x288 with 3 Axes>"
      ]
     },
     "metadata": {
      "needs_background": "light"
     },
     "output_type": "display_data"
    }
   ],
   "source": [
    "fig, axs = plt.subplots(3, 1, sharex=True)\n",
    "axs[0].plot(t_JD, tv290C, lw=2)\n",
    "axs[0].set(ylabel='[$^\\circ$C]')\n",
    "axs[0].legend(['T'])\n",
    "axs[1].plot(t_JD, cond, lw=2)\n",
    "axs[1].set(ylabel='[cond]')\n",
    "axs[1].legend(['cond'])\n",
    "axs[2].plot(t_JD, press, lw=2)\n",
    "axs[2].set(ylabel='pressure')\n",
    "axs[2].legend(['pressure'])\n"
   ]
  },
  {
   "cell_type": "markdown",
   "id": "c0c7ea81",
   "metadata": {},
   "source": [
    "1st 2 lines of OpenCTD data file:\n",
    "Date, Time,Pressure,Temp A,Temp B,Temp C,Conductivity\n",
    "08/13/2021,12:32:04,1007.30,23.19,23.44,23.19,"
   ]
  },
  {
   "cell_type": "code",
   "execution_count": 9,
   "id": "26baae93",
   "metadata": {},
   "outputs": [],
   "source": [
    "fname=r'..\\data\\raw\\cal_bath\\LOG001.csv'\n",
    "data  = np.genfromtxt(fname, skip_header=1,delimiter=\",\")"
   ]
  },
  {
   "cell_type": "code",
   "execution_count": 33,
   "id": "c6016e5f",
   "metadata": {},
   "outputs": [
    {
     "data": {
      "text/plain": [
       "(12873,)"
      ]
     },
     "execution_count": 33,
     "metadata": {},
     "output_type": "execute_result"
    }
   ],
   "source": [
    "np.shape(data)"
   ]
  },
  {
   "cell_type": "code",
   "execution_count": 41,
   "id": "c60b7328",
   "metadata": {},
   "outputs": [],
   "source": [
    "from datetime import datetime\n",
    "\n",
    "str2date = lambda x: datetime.strptime(x, '%d/%m/%Y')\n",
    "data = np.genfromtxt(fname, skip_header=1, delimiter=',', usecols=(0,), dtype=object, names=True, converters = {0: str2date}, encoding='utf-8')"
   ]
  },
  {
   "cell_type": "code",
   "execution_count": 39,
   "id": "b0f3dba3",
   "metadata": {},
   "outputs": [
    {
     "name": "stdout",
     "output_type": "stream",
     "text": [
      "[None None None None None None None None None None]\n"
     ]
    }
   ],
   "source": [
    "print(data[0:10])\n"
   ]
  },
  {
   "cell_type": "code",
   "execution_count": null,
   "id": "bfb7031e",
   "metadata": {},
   "outputs": [],
   "source": []
  }
 ],
 "metadata": {
  "kernelspec": {
   "display_name": "Python 3 (ipykernel)",
   "language": "python",
   "name": "python3"
  },
  "language_info": {
   "codemirror_mode": {
    "name": "ipython",
    "version": 3
   },
   "file_extension": ".py",
   "mimetype": "text/x-python",
   "name": "python",
   "nbconvert_exporter": "python",
   "pygments_lexer": "ipython3",
   "version": "3.8.6"
  }
 },
 "nbformat": 4,
 "nbformat_minor": 5
}
