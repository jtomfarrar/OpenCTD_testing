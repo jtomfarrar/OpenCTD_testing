{
 "cells": [
  {
   "cell_type": "markdown",
   "metadata": {},
   "source": [
    "## Read data from Steven Akin's OpenCTD instruments\n",
    "\n",
    "Steven built two OpenCTDs in the summer of 2021.  He came to WHOI to test them against Seabird 37 CTDs (a trusted oceanographic research quality CTD).  This is to read and plot some of the data."
   ]
  },
  {
   "cell_type": "markdown",
   "metadata": {},
   "source": [
    "First read in the SBE37 data from the cal bath.  The fields are as follows:\n",
    "```\n",
    "# name 0 = timeJ: Julian Days\n",
    "# name 1 = tv290C: Temperature [ITS-90, deg C]\n",
    "# name 2 = cond0S/m: Conductivity [S/m]\n",
    "# name 3 = sal00: Salinity, Practical [PSU]\n",
    "# name 4 = prdM: Pressure, Strain Gauge [db]\n",
    "# name 5 = flag:  0.000e+00\n",
    "# span 0 = 225.725706, 225.877905                 \n",
    "# span 1 =     0.1177,    30.2064                 \n",
    "# span 2 =  -0.000194,   0.013056                 \n",
    "# span 3 =     0.0000,     0.0608                 \n",
    "# span 4 =     -0.120,      0.467                 \n",
    "# span 5 = 0.0000e+00, 0.0000e+00                 \n",
    "# interval = seconds: 10\n",
    "# start_time = Aug 13 2021 17:25:01 [Instrument's time stamp, first data scan]\n",
    "```\n",
    "\n",
    "Lines 1-283 of the CNV file are header lines.\n",
    "\n",
    "The file is here:\n",
    "\"..\\data\\raw\\cal_bath\\SBE37SM-RS232_03715360_2021_08_13.cnv\"\n"
   ]
  },
  {
   "cell_type": "code",
   "execution_count": 76,
   "metadata": {},
   "outputs": [],
   "source": [
    "import numpy as np\n",
    "import matplotlib as mplt\n",
    "import matplotlib.pyplot as plt\n",
    "import pandas as pd\n",
    "import datetime\n",
    "import gsw"
   ]
  },
  {
   "cell_type": "code",
   "execution_count": 65,
   "metadata": {},
   "outputs": [],
   "source": [
    "%matplotlib qt5\n",
    "# %matplotlib inline\n",
    "plt.rcParams['figure.figsize'] = (6,6)\n",
    "plt.rcParams['figure.dpi'] = 400\n",
    "plt.rcParams['savefig.dpi'] = 700\n",
    "plt.close('all')\n",
    "\n",
    "__figdir__ = '../plots/' \n",
    "savefig_args = {'bbox_inches':'tight', 'pad_inches':0.2}\n",
    "plotfiletype='png'\n",
    "\n"
   ]
  },
  {
   "cell_type": "code",
   "execution_count": 2,
   "metadata": {},
   "outputs": [],
   "source": [
    "# fname=r'C:\\Users\\jtomf\\Desktop\\access_to_the_sea\\info\\for_students\\Steven_Akin\\data\\cal_bath\\SBE37SM-RS232_03715360_2021_08_13.cnv'\n",
    "fname=r'..\\data\\raw\\cal_bath\\SBE37SM-RS232_03715360_2021_08_13.cnv'"
   ]
  },
  {
   "cell_type": "code",
   "execution_count": 3,
   "metadata": {},
   "outputs": [],
   "source": [
    "\n",
    "data  = np.genfromtxt(fname, skip_header=285)"
   ]
  },
  {
   "cell_type": "code",
   "execution_count": 4,
   "metadata": {},
   "outputs": [
    {
     "data": {
      "text/plain": [
       "(1314, 6)"
      ]
     },
     "execution_count": 4,
     "metadata": {},
     "output_type": "execute_result"
    }
   ],
   "source": [
    "np.shape(data)\n"
   ]
  },
  {
   "cell_type": "code",
   "execution_count": 5,
   "metadata": {},
   "outputs": [],
   "source": [
    "t_JD = data[:,0]\n",
    "tv290C =  data[:,1]\n",
    "cond = data[:,2]\n",
    "sal = data[:,3]\n",
    "press = data[:,4]"
   ]
  },
  {
   "cell_type": "code",
   "execution_count": 6,
   "metadata": {},
   "outputs": [
    {
     "data": {
      "text/plain": [
       "<matplotlib.legend.Legend at 0x1fe1461cd90>"
      ]
     },
     "execution_count": 6,
     "metadata": {},
     "output_type": "execute_result"
    },
    {
     "data": {
      "image/png": "[encoded data removed]",
      "text/plain": [
       "<Figure size 432x288 with 3 Axes>"
      ]
     },
     "metadata": {},
     "output_type": "display_data"
    }
   ],
   "source": [
    "fig, axs = plt.subplots(3, 1, sharex=True)\n",
    "axs[0].plot(t_JD, tv290C, lw=2)\n",
    "axs[0].set(ylabel='[$^\\circ$C]')\n",
    "axs[0].legend(['T'])\n",
    "axs[1].plot(t_JD, cond, lw=2)\n",
    "axs[1].set(ylabel='[cond]')\n",
    "axs[1].legend(['cond'])\n",
    "axs[2].plot(t_JD, press, lw=2)\n",
    "axs[2].set(ylabel='pressure')\n",
    "axs[2].legend(['pressure'])\n"
   ]
  },
  {
   "cell_type": "code",
   "execution_count": 7,
   "metadata": {},
   "outputs": [],
   "source": [
    "fname=r'..\\data\\raw\\cal_bath\\SBE37SM-RS232_03715360_2021_08_13.cnv'\n",
    "names=['t', 'T', 'cond', 'S', 'P', 'flag']\n",
    "ds1=pd.read_table(fname, skiprows=285, names=names, delim_whitespace=True)"
   ]
  },
  {
   "cell_type": "code",
   "execution_count": 8,
   "metadata": {},
   "outputs": [
    {
     "data": {
      "text/html": [
       "<div>\n",
       "<style scoped>\n",
       "    .dataframe tbody tr th:only-of-type {\n",
       "        vertical-align: middle;\n",
       "    }\n",
       "\n",
       "    .dataframe tbody tr th {\n",
       "        vertical-align: top;\n",
       "    }\n",
       "\n",
       "    .dataframe thead th {\n",
       "        text-align: right;\n",
       "    }\n",
       "</style>\n",
       "<table border=\"1\" class=\"dataframe\">\n",
       "  <thead>\n",
       "    <tr style=\"text-align: right;\">\n",
       "      <th></th>\n",
       "      <th>t</th>\n",
       "      <th>T</th>\n",
       "      <th>cond</th>\n",
       "      <th>S</th>\n",
       "      <th>P</th>\n",
       "      <th>flag</th>\n",
       "    </tr>\n",
       "  </thead>\n",
       "  <tbody>\n",
       "    <tr>\n",
       "      <th>0</th>\n",
       "      <td>225.725937</td>\n",
       "      <td>22.1294</td>\n",
       "      <td>-0.000171</td>\n",
       "      <td>0.0</td>\n",
       "      <td>-0.071</td>\n",
       "      <td>0.0</td>\n",
       "    </tr>\n",
       "    <tr>\n",
       "      <th>1</th>\n",
       "      <td>225.726053</td>\n",
       "      <td>22.1388</td>\n",
       "      <td>-0.000174</td>\n",
       "      <td>0.0</td>\n",
       "      <td>-0.069</td>\n",
       "      <td>0.0</td>\n",
       "    </tr>\n",
       "    <tr>\n",
       "      <th>2</th>\n",
       "      <td>225.726169</td>\n",
       "      <td>22.1467</td>\n",
       "      <td>-0.000174</td>\n",
       "      <td>0.0</td>\n",
       "      <td>-0.070</td>\n",
       "      <td>0.0</td>\n",
       "    </tr>\n",
       "    <tr>\n",
       "      <th>3</th>\n",
       "      <td>225.726285</td>\n",
       "      <td>22.1543</td>\n",
       "      <td>-0.000174</td>\n",
       "      <td>0.0</td>\n",
       "      <td>-0.071</td>\n",
       "      <td>0.0</td>\n",
       "    </tr>\n",
       "    <tr>\n",
       "      <th>4</th>\n",
       "      <td>225.726400</td>\n",
       "      <td>22.1694</td>\n",
       "      <td>-0.000174</td>\n",
       "      <td>0.0</td>\n",
       "      <td>-0.070</td>\n",
       "      <td>0.0</td>\n",
       "    </tr>\n",
       "    <tr>\n",
       "      <th>...</th>\n",
       "      <td>...</td>\n",
       "      <td>...</td>\n",
       "      <td>...</td>\n",
       "      <td>...</td>\n",
       "      <td>...</td>\n",
       "      <td>...</td>\n",
       "    </tr>\n",
       "    <tr>\n",
       "      <th>1309</th>\n",
       "      <td>225.877442</td>\n",
       "      <td>23.2976</td>\n",
       "      <td>-0.000191</td>\n",
       "      <td>0.0</td>\n",
       "      <td>-0.065</td>\n",
       "      <td>0.0</td>\n",
       "    </tr>\n",
       "    <tr>\n",
       "      <th>1310</th>\n",
       "      <td>225.877558</td>\n",
       "      <td>23.1876</td>\n",
       "      <td>-0.000191</td>\n",
       "      <td>0.0</td>\n",
       "      <td>-0.068</td>\n",
       "      <td>0.0</td>\n",
       "    </tr>\n",
       "    <tr>\n",
       "      <th>1311</th>\n",
       "      <td>225.877674</td>\n",
       "      <td>22.9971</td>\n",
       "      <td>-0.000191</td>\n",
       "      <td>0.0</td>\n",
       "      <td>-0.072</td>\n",
       "      <td>0.0</td>\n",
       "    </tr>\n",
       "    <tr>\n",
       "      <th>1312</th>\n",
       "      <td>225.877789</td>\n",
       "      <td>23.0168</td>\n",
       "      <td>-0.000191</td>\n",
       "      <td>0.0</td>\n",
       "      <td>-0.077</td>\n",
       "      <td>0.0</td>\n",
       "    </tr>\n",
       "    <tr>\n",
       "      <th>1313</th>\n",
       "      <td>225.877905</td>\n",
       "      <td>23.1398</td>\n",
       "      <td>-0.000194</td>\n",
       "      <td>0.0</td>\n",
       "      <td>-0.079</td>\n",
       "      <td>0.0</td>\n",
       "    </tr>\n",
       "  </tbody>\n",
       "</table>\n",
       "<p>1314 rows × 6 columns</p>\n",
       "</div>"
      ],
      "text/plain": [
       "               t        T      cond    S      P  flag\n",
       "0     225.725937  22.1294 -0.000171  0.0 -0.071   0.0\n",
       "1     225.726053  22.1388 -0.000174  0.0 -0.069   0.0\n",
       "2     225.726169  22.1467 -0.000174  0.0 -0.070   0.0\n",
       "3     225.726285  22.1543 -0.000174  0.0 -0.071   0.0\n",
       "4     225.726400  22.1694 -0.000174  0.0 -0.070   0.0\n",
       "...          ...      ...       ...  ...    ...   ...\n",
       "1309  225.877442  23.2976 -0.000191  0.0 -0.065   0.0\n",
       "1310  225.877558  23.1876 -0.000191  0.0 -0.068   0.0\n",
       "1311  225.877674  22.9971 -0.000191  0.0 -0.072   0.0\n",
       "1312  225.877789  23.0168 -0.000191  0.0 -0.077   0.0\n",
       "1313  225.877905  23.1398 -0.000194  0.0 -0.079   0.0\n",
       "\n",
       "[1314 rows x 6 columns]"
      ]
     },
     "execution_count": 8,
     "metadata": {},
     "output_type": "execute_result"
    }
   ],
   "source": [
    "ds1"
   ]
  },
  {
   "cell_type": "code",
   "execution_count": 9,
   "metadata": {},
   "outputs": [
    {
     "data": {
      "text/plain": [
       "\"\\nfor n in np.arange(0,np.size(ds1.t)):\\n    day = datetime.datetime.fromordinal(int(ds1.t[n]))\\n    dayfrac = datetime.timedelta(days=ds1.t[n]%1) - datetime.timedelta(days = 366)\\n    ds1.time[n] = day+dayfrac\\n\\n#ds1.time=t0+pd.timedelta(ds1.t.values,'D')\\n\""
      ]
     },
     "execution_count": 9,
     "metadata": {},
     "output_type": "execute_result"
    }
   ],
   "source": [
    "# t0 = datetime.datetime('2021-01-01')\n",
    "'''\n",
    "for n in np.arange(0,np.size(ds1.t)):\n",
    "    day = datetime.datetime.fromordinal(int(ds1.t[n]))\n",
    "    dayfrac = datetime.timedelta(days=ds1.t[n]%1) - datetime.timedelta(days = 366)\n",
    "    ds1.time[n] = day+dayfrac\n",
    "\n",
    "#ds1.time=t0+pd.timedelta(ds1.t.values,'D')\n",
    "'''"
   ]
  },
  {
   "cell_type": "code",
   "execution_count": 10,
   "metadata": {},
   "outputs": [
    {
     "data": {
      "text/plain": [
       "<AxesSubplot:xlabel='t'>"
      ]
     },
     "execution_count": 10,
     "metadata": {},
     "output_type": "execute_result"
    },
    {
     "data": {
      "image/png": "[encoded data removed]",
      "text/plain": [
       "<Figure size 432x288 with 1 Axes>"
      ]
     },
     "metadata": {},
     "output_type": "display_data"
    }
   ],
   "source": [
    "fig = plt.figure()\n",
    "ax2 = plt.axes()  \n",
    "ds1.plot('t','T',ax=ax2)\n"
   ]
  },
  {
   "cell_type": "markdown",
   "metadata": {},
   "source": [
    "1st 2 lines of OpenCTD data file:\n",
    "\n",
    "Date, Time,Pressure,Temp A,Temp B,Temp C,Conductivity\n",
    "\n",
    "08/13/2021,12:32:04,1007.30,23.19,23.44,23.19,"
   ]
  },
  {
   "cell_type": "code",
   "execution_count": 11,
   "metadata": {},
   "outputs": [],
   "source": [
    "\n",
    "fname=r'..\\data\\raw\\cal_bath\\LOG001.CSV'\n",
    "ds2=pd.read_csv(fname) #,skip_header=1, delimiter=',')\n"
   ]
  },
  {
   "cell_type": "code",
   "execution_count": 12,
   "metadata": {},
   "outputs": [
    {
     "data": {
      "text/html": [
       "<div>\n",
       "<style scoped>\n",
       "    .dataframe tbody tr th:only-of-type {\n",
       "        vertical-align: middle;\n",
       "    }\n",
       "\n",
       "    .dataframe tbody tr th {\n",
       "        vertical-align: top;\n",
       "    }\n",
       "\n",
       "    .dataframe thead th {\n",
       "        text-align: right;\n",
       "    }\n",
       "</style>\n",
       "<table border=\"1\" class=\"dataframe\">\n",
       "  <thead>\n",
       "    <tr style=\"text-align: right;\">\n",
       "      <th></th>\n",
       "      <th>Date</th>\n",
       "      <th>Time</th>\n",
       "      <th>Pressure</th>\n",
       "      <th>Temp A</th>\n",
       "      <th>Temp B</th>\n",
       "      <th>Temp C</th>\n",
       "      <th>Conductivity</th>\n",
       "    </tr>\n",
       "  </thead>\n",
       "  <tbody>\n",
       "    <tr>\n",
       "      <th>0</th>\n",
       "      <td>08/13/2021</td>\n",
       "      <td>12:32:05</td>\n",
       "      <td>1007.4</td>\n",
       "      <td>23.19</td>\n",
       "      <td>23.44</td>\n",
       "      <td>23.19</td>\n",
       "      <td>3398.0</td>\n",
       "    </tr>\n",
       "    <tr>\n",
       "      <th>1</th>\n",
       "      <td>08/13/2021</td>\n",
       "      <td>12:32:06</td>\n",
       "      <td>1007.4</td>\n",
       "      <td>23.19</td>\n",
       "      <td>23.44</td>\n",
       "      <td>23.19</td>\n",
       "      <td>3401.0</td>\n",
       "    </tr>\n",
       "    <tr>\n",
       "      <th>2</th>\n",
       "      <td>08/13/2021</td>\n",
       "      <td>12:32:07</td>\n",
       "      <td>1007.1</td>\n",
       "      <td>23.19</td>\n",
       "      <td>23.44</td>\n",
       "      <td>23.19</td>\n",
       "      <td>3397.0</td>\n",
       "    </tr>\n",
       "    <tr>\n",
       "      <th>3</th>\n",
       "      <td>08/13/2021</td>\n",
       "      <td>12:32:08</td>\n",
       "      <td>1007.2</td>\n",
       "      <td>23.19</td>\n",
       "      <td>23.44</td>\n",
       "      <td>23.19</td>\n",
       "      <td>3402.0</td>\n",
       "    </tr>\n",
       "    <tr>\n",
       "      <th>4</th>\n",
       "      <td>08/13/2021</td>\n",
       "      <td>12:32:09</td>\n",
       "      <td>1007.2</td>\n",
       "      <td>23.19</td>\n",
       "      <td>23.44</td>\n",
       "      <td>23.19</td>\n",
       "      <td>3404.0</td>\n",
       "    </tr>\n",
       "    <tr>\n",
       "      <th>...</th>\n",
       "      <td>...</td>\n",
       "      <td>...</td>\n",
       "      <td>...</td>\n",
       "      <td>...</td>\n",
       "      <td>...</td>\n",
       "      <td>...</td>\n",
       "      <td>...</td>\n",
       "    </tr>\n",
       "    <tr>\n",
       "      <th>12868</th>\n",
       "      <td>08/13/2021</td>\n",
       "      <td>16:01:25</td>\n",
       "      <td>1006.0</td>\n",
       "      <td>25.37</td>\n",
       "      <td>25.06</td>\n",
       "      <td>24.87</td>\n",
       "      <td>151.5</td>\n",
       "    </tr>\n",
       "    <tr>\n",
       "      <th>12869</th>\n",
       "      <td>08/13/2021</td>\n",
       "      <td>16:01:26</td>\n",
       "      <td>1005.7</td>\n",
       "      <td>25.31</td>\n",
       "      <td>25.00</td>\n",
       "      <td>24.87</td>\n",
       "      <td>217.8</td>\n",
       "    </tr>\n",
       "    <tr>\n",
       "      <th>12870</th>\n",
       "      <td>08/13/2021</td>\n",
       "      <td>16:01:27</td>\n",
       "      <td>1005.9</td>\n",
       "      <td>25.31</td>\n",
       "      <td>25.06</td>\n",
       "      <td>24.81</td>\n",
       "      <td>0.0</td>\n",
       "    </tr>\n",
       "    <tr>\n",
       "      <th>12871</th>\n",
       "      <td>08/13/2021</td>\n",
       "      <td>16:01:28</td>\n",
       "      <td>1005.9</td>\n",
       "      <td>25.37</td>\n",
       "      <td>25.00</td>\n",
       "      <td>24.87</td>\n",
       "      <td>0.0</td>\n",
       "    </tr>\n",
       "    <tr>\n",
       "      <th>12872</th>\n",
       "      <td>08/13/2021</td>\n",
       "      <td>16:01:29</td>\n",
       "      <td>1005.9</td>\n",
       "      <td>25.31</td>\n",
       "      <td>25.00</td>\n",
       "      <td>24.87</td>\n",
       "      <td>0.0</td>\n",
       "    </tr>\n",
       "  </tbody>\n",
       "</table>\n",
       "<p>12873 rows × 7 columns</p>\n",
       "</div>"
      ],
      "text/plain": [
       "             Date      Time  Pressure  Temp A  Temp B  Temp C  Conductivity\n",
       "0      08/13/2021  12:32:05    1007.4   23.19   23.44   23.19        3398.0\n",
       "1      08/13/2021  12:32:06    1007.4   23.19   23.44   23.19        3401.0\n",
       "2      08/13/2021  12:32:07    1007.1   23.19   23.44   23.19        3397.0\n",
       "3      08/13/2021  12:32:08    1007.2   23.19   23.44   23.19        3402.0\n",
       "4      08/13/2021  12:32:09    1007.2   23.19   23.44   23.19        3404.0\n",
       "...           ...       ...       ...     ...     ...     ...           ...\n",
       "12868  08/13/2021  16:01:25    1006.0   25.37   25.06   24.87         151.5\n",
       "12869  08/13/2021  16:01:26    1005.7   25.31   25.00   24.87         217.8\n",
       "12870  08/13/2021  16:01:27    1005.9   25.31   25.06   24.81           0.0\n",
       "12871  08/13/2021  16:01:28    1005.9   25.37   25.00   24.87           0.0\n",
       "12872  08/13/2021  16:01:29    1005.9   25.31   25.00   24.87           0.0\n",
       "\n",
       "[12873 rows x 7 columns]"
      ]
     },
     "execution_count": 12,
     "metadata": {},
     "output_type": "execute_result"
    }
   ],
   "source": [
    "ds2"
   ]
  },
  {
   "cell_type": "code",
   "execution_count": 14,
   "metadata": {},
   "outputs": [
    {
     "data": {
      "text/plain": [
       "\"\\naxs[0].set(ylabel='[$^\\\\circ$C]')\\naxs[0].legend(['T'])\\naxs[1].plot(t_JD, cond, lw=2)\\naxs[1].set(ylabel='[cond]')\\naxs[1].legend(['cond'])\\naxs[2].plot(t_JD, press, lw=2)\\naxs[2].set(ylabel='pressure')\\naxs[2].legend(['pressure'])\\n\""
      ]
     },
     "execution_count": 14,
     "metadata": {},
     "output_type": "execute_result"
    },
    {
     "data": {
      "image/png": "[encoded data removed]",
      "text/plain": [
       "<Figure size 432x288 with 1 Axes>"
      ]
     },
     "metadata": {},
     "output_type": "display_data"
    }
   ],
   "source": [
    "fig = plt.figure()\n",
    "ax3 = plt.axes()  \n",
    "ds2.plot('Time','Temp A',ax=ax3)\n",
    "\n",
    "# plt.plot(ds['Date Time'], ds['Temp A'], lw=2)\n",
    "\n",
    "'''\n",
    "axs[0].set(ylabel='[$^\\circ$C]')\n",
    "axs[0].legend(['T'])\n",
    "axs[1].plot(t_JD, cond, lw=2)\n",
    "axs[1].set(ylabel='[cond]')\n",
    "axs[1].legend(['cond'])\n",
    "axs[2].plot(t_JD, press, lw=2)\n",
    "axs[2].set(ylabel='pressure')\n",
    "axs[2].legend(['pressure'])\n",
    "'''"
   ]
  },
  {
   "cell_type": "code",
   "execution_count": 15,
   "metadata": {},
   "outputs": [
    {
     "data": {
      "text/plain": [
       "str"
      ]
     },
     "execution_count": 15,
     "metadata": {},
     "output_type": "execute_result"
    }
   ],
   "source": [
    "type(ds2['Time'][0])"
   ]
  },
  {
   "cell_type": "code",
   "execution_count": 16,
   "metadata": {},
   "outputs": [
    {
     "data": {
      "text/plain": [
       "str"
      ]
     },
     "execution_count": 16,
     "metadata": {},
     "output_type": "execute_result"
    }
   ],
   "source": [
    "type(ds2['Date'][0])"
   ]
  },
  {
   "cell_type": "code",
   "execution_count": 18,
   "metadata": {},
   "outputs": [
    {
     "data": {
      "text/plain": [
       "'08/13/2021'"
      ]
     },
     "execution_count": 18,
     "metadata": {},
     "output_type": "execute_result"
    }
   ],
   "source": [
    "ds2['Date'][0]"
   ]
  },
  {
   "cell_type": "code",
   "execution_count": null,
   "metadata": {},
   "outputs": [],
   "source": [
    "# Time in UTC\n",
    "# startTime=\"2021-11-2 00:00 UTC\"\n",
    "endTime=\"2021-11-5 13:00 UTC\"\n",
    "time_delta=datetime.timedelta(hours=20)\n",
    "\n",
    "# startTimeDT=datetime.datetime.strptime(startTime, '%Y-%m-%d %H:%M %Z')\n",
    "endTimeDT=datetime.datetime.strptime(endTime, '%Y-%m-%d %H:%M %Z')\n",
    "startTimeDT=endTimeDT-time_delta"
   ]
  },
  {
   "cell_type": "code",
   "execution_count": 70,
   "metadata": {},
   "outputs": [],
   "source": [
    "UTC_time_delta = datetime.timedelta(hours=5)\n",
    "fine_adjust_time_delta = datetime.timedelta(seconds=5)\n",
    "ds2timeDT = []\n",
    "for n in range(0,len(ds2)):\n",
    "    newtime = datetime.datetime.strptime(ds2['Date'][n]+ ' ' + ds2['Time'][n], '%m/%d/%Y %H:%M:%S')\n",
    "    ds2timeDT.append(newtime+ UTC_time_delta + fine_adjust_time_delta)\n",
    "\n",
    "# I think I could do this better with generator or list comprehension:\n",
    "# [expression> for <var> in <iterable> {if <condition}]\n"
   ]
  },
  {
   "cell_type": "code",
   "execution_count": 59,
   "metadata": {},
   "outputs": [
    {
     "data": {
      "text/plain": [
       "datetime.timedelta(seconds=14400)"
      ]
     },
     "execution_count": 59,
     "metadata": {},
     "output_type": "execute_result"
    }
   ],
   "source": [
    "ds2timeDT"
   ]
  },
  {
   "cell_type": "code",
   "execution_count": 49,
   "metadata": {},
   "outputs": [],
   "source": [
    "SBE_time0=\"2021-1-1 00:00 UTC\"\n",
    "SBE_datetime0=datetime.datetime.strptime(SBE_time0, '%Y-%m-%d %H:%M %Z')\n",
    "\n",
    "ds1timeDT =[]\n",
    "\n",
    "for t in ds1['t']:\n",
    "    time_delta=datetime.timedelta(days=t-1)\n",
    "    ds1timeDT.append(SBE_datetime0+time_delta)\n",
    "\n"
   ]
  },
  {
   "cell_type": "code",
   "execution_count": 46,
   "metadata": {},
   "outputs": [
    {
     "data": {
      "text/plain": [
       "1314"
      ]
     },
     "execution_count": 46,
     "metadata": {},
     "output_type": "execute_result"
    }
   ],
   "source": [
    "len(ds1['T'])"
   ]
  },
  {
   "cell_type": "code",
   "execution_count": 74,
   "metadata": {},
   "outputs": [],
   "source": [
    "fig = plt.figure()\n",
    "ax2 = plt.axes()  \n",
    "ax2.plot(ds1timeDT,ds1['T'])\n",
    "ax2.plot(ds2timeDT,ds2['Temp A'])\n",
    "ax2.plot(ds2timeDT,ds2['Temp B'])\n",
    "ax2.plot(ds2timeDT,ds2['Temp C'])\n",
    "plt.title('Temperature')\n",
    "ax2.legend(['SBE T','Temp A','Temp B','Temp C'])\n",
    "fig.autofmt_xdate()"
   ]
  },
  {
   "cell_type": "code",
   "execution_count": 55,
   "metadata": {},
   "outputs": [
    {
     "data": {
      "text/plain": [
       "datetime.timedelta(seconds=17595, microseconds=956800)"
      ]
     },
     "execution_count": 55,
     "metadata": {},
     "output_type": "execute_result"
    }
   ],
   "source": [
    "ds1timeDT[0]-ds2timeDT[0]"
   ]
  },
  {
   "cell_type": "code",
   "execution_count": 77,
   "metadata": {},
   "outputs": [],
   "source": [
    "fig = plt.figure()\n",
    "ax = plt.axes()  \n",
    "ax.plot(ds1timeDT,ds1['cond'])\n",
    "ax.plot(ds2timeDT,ds2['Conductivity']/10000)\n",
    "\n",
    "plt.title('Conductivity')\n",
    "ax.legend(['SBE C','OpenCTD C'])\n",
    "fig.autofmt_xdate()"
   ]
  },
  {
   "cell_type": "code",
   "execution_count": null,
   "metadata": {},
   "outputs": [],
   "source": []
  }
 ],
 "metadata": {
  "kernelspec": {
   "display_name": "Python 3 (Spyder)",
   "language": "python3",
   "name": "python3"
  },
  "language_info": {
   "codemirror_mode": {
    "name": "ipython",
    "version": 3
   },
   "file_extension": ".py",
   "mimetype": "text/x-python",
   "name": "python",
   "nbconvert_exporter": "python",
   "pygments_lexer": "ipython3",
   "version": "3.8.6"
  }
 },
 "nbformat": 4,
 "nbformat_minor": 5
}
