{
 "cells": [
  {
   "cell_type": "markdown",
   "metadata": {},
   "source": [
    "## Read data from Steven Akin's OpenCTD instruments\n",
    "\n",
    "Steven built two OpenCTDs in the summer of 2021.  He came to WHOI to test them against Seabird 37 CTDs (a trusted oceanographic research quality CTD).  This is to read and plot some of the data."
   ]
  },
  {
   "cell_type": "markdown",
   "metadata": {},
   "source": [
    "First read in the SBE37 data from the cal bath.  The fields are as follows:\n",
    "```\n",
    "# name 0 = timeJ: Julian Days\n",
    "# name 1 = tv290C: Temperature [ITS-90, deg C]\n",
    "# name 2 = cond0S/m: Conductivity [S/m]\n",
    "# name 3 = sal00: Salinity, Practical [PSU]\n",
    "# name 4 = prdM: Pressure, Strain Gauge [db]\n",
    "# name 5 = flag:  0.000e+00\n",
    "# span 0 = 225.725706, 225.877905                 \n",
    "# span 1 =     0.1177,    30.2064                 \n",
    "# span 2 =  -0.000194,   0.013056                 \n",
    "# span 3 =     0.0000,     0.0608                 \n",
    "# span 4 =     -0.120,      0.467                 \n",
    "# span 5 = 0.0000e+00, 0.0000e+00                 \n",
    "# interval = seconds: 10\n",
    "# start_time = Aug 13 2021 17:25:01 [Instrument's time stamp, first data scan]\n",
    "```\n",
    "\n",
    "Lines 1-283 of the CNV file are header lines.\n",
    "\n",
    "The file is here:\n",
    "\"..\\data\\raw\\cal_bath\\SBE37SM-RS232_03715360_2021_08_13.cnv\"\n"
   ]
  },
  {
   "cell_type": "code",
   "execution_count": 1,
   "metadata": {},
   "outputs": [],
   "source": [
    "import numpy as np\n",
    "import matplotlib as mplt\n",
    "import matplotlib.pyplot as plt\n",
    "import pandas as pd"
   ]
  },
  {
   "cell_type": "code",
   "execution_count": 2,
   "metadata": {},
   "outputs": [],
   "source": [
    "# fname=r'C:\\Users\\jtomf\\Desktop\\access_to_the_sea\\info\\for_students\\Steven_Akin\\data\\cal_bath\\SBE37SM-RS232_03715360_2021_08_13.cnv'\n",
    "fname=r'..\\data\\raw\\cal_bath\\SBE37SM-RS232_03715360_2021_08_13.cnv'"
   ]
  },
  {
   "cell_type": "code",
   "execution_count": 3,
   "metadata": {},
   "outputs": [],
   "source": [
    "\n",
    "data  = np.genfromtxt(fname, skip_header=285)"
   ]
  },
  {
   "cell_type": "code",
   "execution_count": 4,
   "metadata": {},
   "outputs": [
    {
     "data": {
      "text/plain": [
       "(1314, 6)"
      ]
     },
     "execution_count": 4,
     "metadata": {},
     "output_type": "execute_result"
    }
   ],
   "source": [
    "np.shape(data)\n"
   ]
  },
  {
   "cell_type": "code",
   "execution_count": 5,
   "metadata": {},
   "outputs": [],
   "source": [
    "t_JD = data[:,0]\n",
    "tv290C =  data[:,1]\n",
    "cond = data[:,2]\n",
    "sal = data[:,3]\n",
    "press = data[:,4]"
   ]
  },
  {
   "cell_type": "code",
   "execution_count": 6,
   "metadata": {},
   "outputs": [
    {
     "data": {
      "text/plain": [
       "<matplotlib.legend.Legend at 0x2ebbadc0730>"
      ]
     },
     "execution_count": 6,
     "metadata": {},
     "output_type": "execute_result"
    }
   ],
   "source": [
    "fig, axs = plt.subplots(3, 1, sharex=True)\n",
    "axs[0].plot(t_JD, tv290C, lw=2)\n",
    "axs[0].set(ylabel='[$^\\circ$C]')\n",
    "axs[0].legend(['T'])\n",
    "axs[1].plot(t_JD, cond, lw=2)\n",
    "axs[1].set(ylabel='[cond]')\n",
    "axs[1].legend(['cond'])\n",
    "axs[2].plot(t_JD, press, lw=2)\n",
    "axs[2].set(ylabel='pressure')\n",
    "axs[2].legend(['pressure'])\n"
   ]
  },
  {
   "cell_type": "code",
   "execution_count": 29,
   "metadata": {},
   "outputs": [],
   "source": [
    "fname=r'..\\data\\raw\\cal_bath\\SBE37SM-RS232_03715360_2021_08_13.cnv'\n",
    "names=['t', 'T', 'cond', 'S', 'P', 'flag']\n",
    "ds1=pd.read_table(fname, skiprows=285, names=names, delim_whitespace=True)"
   ]
  },
  {
   "cell_type": "code",
   "execution_count": 30,
   "metadata": {},
   "outputs": [
    {
     "data": {
      "text/html": [
       "<div>\n",
       "<style scoped>\n",
       "    .dataframe tbody tr th:only-of-type {\n",
       "        vertical-align: middle;\n",
       "    }\n",
       "\n",
       "    .dataframe tbody tr th {\n",
       "        vertical-align: top;\n",
       "    }\n",
       "\n",
       "    .dataframe thead th {\n",
       "        text-align: right;\n",
       "    }\n",
       "</style>\n",
       "<table border=\"1\" class=\"dataframe\">\n",
       "  <thead>\n",
       "    <tr style=\"text-align: right;\">\n",
       "      <th></th>\n",
       "      <th>t</th>\n",
       "      <th>T</th>\n",
       "      <th>cond</th>\n",
       "      <th>S</th>\n",
       "      <th>P</th>\n",
       "      <th>flag</th>\n",
       "    </tr>\n",
       "  </thead>\n",
       "  <tbody>\n",
       "    <tr>\n",
       "      <th>0</th>\n",
       "      <td>225.725937</td>\n",
       "      <td>22.1294</td>\n",
       "      <td>-0.000171</td>\n",
       "      <td>0.0</td>\n",
       "      <td>-0.071</td>\n",
       "      <td>0.0</td>\n",
       "    </tr>\n",
       "    <tr>\n",
       "      <th>1</th>\n",
       "      <td>225.726053</td>\n",
       "      <td>22.1388</td>\n",
       "      <td>-0.000174</td>\n",
       "      <td>0.0</td>\n",
       "      <td>-0.069</td>\n",
       "      <td>0.0</td>\n",
       "    </tr>\n",
       "    <tr>\n",
       "      <th>2</th>\n",
       "      <td>225.726169</td>\n",
       "      <td>22.1467</td>\n",
       "      <td>-0.000174</td>\n",
       "      <td>0.0</td>\n",
       "      <td>-0.070</td>\n",
       "      <td>0.0</td>\n",
       "    </tr>\n",
       "    <tr>\n",
       "      <th>3</th>\n",
       "      <td>225.726285</td>\n",
       "      <td>22.1543</td>\n",
       "      <td>-0.000174</td>\n",
       "      <td>0.0</td>\n",
       "      <td>-0.071</td>\n",
       "      <td>0.0</td>\n",
       "    </tr>\n",
       "    <tr>\n",
       "      <th>4</th>\n",
       "      <td>225.726400</td>\n",
       "      <td>22.1694</td>\n",
       "      <td>-0.000174</td>\n",
       "      <td>0.0</td>\n",
       "      <td>-0.070</td>\n",
       "      <td>0.0</td>\n",
       "    </tr>\n",
       "    <tr>\n",
       "      <th>...</th>\n",
       "      <td>...</td>\n",
       "      <td>...</td>\n",
       "      <td>...</td>\n",
       "      <td>...</td>\n",
       "      <td>...</td>\n",
       "      <td>...</td>\n",
       "    </tr>\n",
       "    <tr>\n",
       "      <th>1309</th>\n",
       "      <td>225.877442</td>\n",
       "      <td>23.2976</td>\n",
       "      <td>-0.000191</td>\n",
       "      <td>0.0</td>\n",
       "      <td>-0.065</td>\n",
       "      <td>0.0</td>\n",
       "    </tr>\n",
       "    <tr>\n",
       "      <th>1310</th>\n",
       "      <td>225.877558</td>\n",
       "      <td>23.1876</td>\n",
       "      <td>-0.000191</td>\n",
       "      <td>0.0</td>\n",
       "      <td>-0.068</td>\n",
       "      <td>0.0</td>\n",
       "    </tr>\n",
       "    <tr>\n",
       "      <th>1311</th>\n",
       "      <td>225.877674</td>\n",
       "      <td>22.9971</td>\n",
       "      <td>-0.000191</td>\n",
       "      <td>0.0</td>\n",
       "      <td>-0.072</td>\n",
       "      <td>0.0</td>\n",
       "    </tr>\n",
       "    <tr>\n",
       "      <th>1312</th>\n",
       "      <td>225.877789</td>\n",
       "      <td>23.0168</td>\n",
       "      <td>-0.000191</td>\n",
       "      <td>0.0</td>\n",
       "      <td>-0.077</td>\n",
       "      <td>0.0</td>\n",
       "    </tr>\n",
       "    <tr>\n",
       "      <th>1313</th>\n",
       "      <td>225.877905</td>\n",
       "      <td>23.1398</td>\n",
       "      <td>-0.000194</td>\n",
       "      <td>0.0</td>\n",
       "      <td>-0.079</td>\n",
       "      <td>0.0</td>\n",
       "    </tr>\n",
       "  </tbody>\n",
       "</table>\n",
       "<p>1314 rows × 6 columns</p>\n",
       "</div>"
      ],
      "text/plain": [
       "               t        T      cond    S      P  flag\n",
       "0     225.725937  22.1294 -0.000171  0.0 -0.071   0.0\n",
       "1     225.726053  22.1388 -0.000174  0.0 -0.069   0.0\n",
       "2     225.726169  22.1467 -0.000174  0.0 -0.070   0.0\n",
       "3     225.726285  22.1543 -0.000174  0.0 -0.071   0.0\n",
       "4     225.726400  22.1694 -0.000174  0.0 -0.070   0.0\n",
       "...          ...      ...       ...  ...    ...   ...\n",
       "1309  225.877442  23.2976 -0.000191  0.0 -0.065   0.0\n",
       "1310  225.877558  23.1876 -0.000191  0.0 -0.068   0.0\n",
       "1311  225.877674  22.9971 -0.000191  0.0 -0.072   0.0\n",
       "1312  225.877789  23.0168 -0.000191  0.0 -0.077   0.0\n",
       "1313  225.877905  23.1398 -0.000194  0.0 -0.079   0.0\n",
       "\n",
       "[1314 rows x 6 columns]"
      ]
     },
     "execution_count": 30,
     "metadata": {},
     "output_type": "execute_result"
    }
   ],
   "source": [
    "ds1"
   ]
  },
  {
   "cell_type": "markdown",
   "metadata": {},
   "source": [
    "1st 2 lines of OpenCTD data file:\n",
    "\n",
    "Date, Time,Pressure,Temp A,Temp B,Temp C,Conductivity\n",
    "\n",
    "08/13/2021,12:32:04,1007.30,23.19,23.44,23.19,"
   ]
  },
  {
   "cell_type": "code",
   "execution_count": null,
   "metadata": {},
   "outputs": [],
   "source": [
    "\n",
    "fname=r'..\\data\\raw\\cal_bath\\LOG001.CSV'\n",
    "ds2=pd.read_csv(fname) #,skip_header=1, delimiter=',')\n"
   ]
  },
  {
   "cell_type": "code",
   "execution_count": null,
   "metadata": {},
   "outputs": [],
   "source": [
    "ds.columns"
   ]
  },
  {
   "cell_type": "code",
   "execution_count": null,
   "metadata": {},
   "outputs": [],
   "source": [
    "fig = plt.figure()\n",
    "ax2 = plt.axes()  \n",
    "ds.plot('Date Time','Temp A')\n",
    "\n",
    "# plt.plot(ds['Date Time'], ds['Temp A'], lw=2)\n",
    "\n",
    "'''\n",
    "axs[0].set(ylabel='[$^\\circ$C]')\n",
    "axs[0].legend(['T'])\n",
    "axs[1].plot(t_JD, cond, lw=2)\n",
    "axs[1].set(ylabel='[cond]')\n",
    "axs[1].legend(['cond'])\n",
    "axs[2].plot(t_JD, press, lw=2)\n",
    "axs[2].set(ylabel='pressure')\n",
    "axs[2].legend(['pressure'])\n",
    "'''"
   ]
  },
  {
   "cell_type": "code",
   "execution_count": null,
   "metadata": {},
   "outputs": [],
   "source": []
  },
  {
   "cell_type": "code",
   "execution_count": null,
   "metadata": {},
   "outputs": [],
   "source": []
  }
 ],
 "metadata": {
  "kernelspec": {
   "display_name": "Python 3 (Spyder)",
   "language": "python3",
   "name": "python3"
  },
  "language_info": {
   "codemirror_mode": {
    "name": "ipython",
    "version": 3
   },
   "file_extension": ".py",
   "mimetype": "text/x-python",
   "name": "python",
   "nbconvert_exporter": "python",
   "pygments_lexer": "ipython3",
   "version": "3.8.6"
  }
 },
 "nbformat": 4,
 "nbformat_minor": 5
}
